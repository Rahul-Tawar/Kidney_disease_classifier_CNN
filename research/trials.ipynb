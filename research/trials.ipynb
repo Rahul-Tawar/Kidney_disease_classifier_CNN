{
 "cells": [
  {
   "cell_type": "code",
   "execution_count": null,
   "metadata": {},
   "outputs": [],
   "source": [
    "from ensure import ensure_annotations\n",
    "\n",
    "@ensure_annotations\n",
    "def getProduct(x: int, y: int) -> int:\n",
    "    return x * y\n",
    "\n",
    "getProduct(x=2, y=3)\n",
    "getProduct(x=2, y='3')  # This will raise a TypeError"
   ]
  }
 ],
 "metadata": {
  "kernelspec": {
   "display_name": "CNN_kideny_classification",
   "language": "python",
   "name": "python3"
  },
  "language_info": {
   "codemirror_mode": {
    "name": "ipython",
    "version": 3
   },
   "file_extension": ".py",
   "mimetype": "text/x-python",
   "name": "python",
   "nbconvert_exporter": "python",
   "pygments_lexer": "ipython3",
   "version": "3.8.20"
  }
 },
 "nbformat": 4,
 "nbformat_minor": 2
}
